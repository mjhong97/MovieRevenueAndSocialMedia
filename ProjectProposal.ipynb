{
 "cells": [
  {
   "cell_type": "markdown",
   "metadata": {},
   "source": [
    "# COGS 108 - Project Proposal"
   ]
  },
  {
   "cell_type": "markdown",
   "metadata": {},
   "source": [
    "## Important\n",
    "\n",
    "- Make sure all group members (3-5 people) are listed in the group members section.\n",
    "- ONE, and only one, member of your group should upload this notebook to TritonED. \n",
    "- Each member of the group will receive the same grade on this assignment. \n",
    "- Keep the file name the same: submit the file 'ProjectProposal.ipynb'"
   ]
  },
  {
   "cell_type": "markdown",
   "metadata": {},
   "source": [
    "## Overview"
   ]
  },
  {
   "cell_type": "markdown",
   "metadata": {},
   "source": [
    "Read the project description and detailed instructions for this assignment in the 'ProjectOutline' document."
   ]
  },
  {
   "cell_type": "markdown",
   "metadata": {},
   "source": [
    "## Group Members: Fill in the Student IDs of each group member here\n",
    "\n",
    "Replace the lines below to list each persons full student ID. Add lines as needed for your group size, and make sure each ID is listed on a separate line. \n",
    "\n",
    "- A14121615\n",
    "- A13524421\n",
    "- A13582050\n",
    "- A13892213"
   ]
  },
  {
   "cell_type": "markdown",
   "metadata": {},
   "source": [
    "### Research Question\n",
    "\n",
    "What is your research question? (1-2 sentences)"
   ]
  },
  {
   "cell_type": "markdown",
   "metadata": {},
   "source": [
    "Is there a relationship between social media metrics and a movie’s success as determined by its gross revenue?"
   ]
  },
  {
   "cell_type": "markdown",
   "metadata": {},
   "source": [
    "### Hypothesis\n",
    "\n",
    "What is your main hypothesis and predictions? (2-3 sentences)"
   ]
  },
  {
   "cell_type": "markdown",
   "metadata": {},
   "source": [
    "We predict that there is a correlation between social media metrics and a movie’s success. Movies well-promoted through social media outlets will have greater success than movies with low social media presence. \n"
   ]
  },
  {
   "cell_type": "markdown",
   "metadata": {},
   "source": [
    "### Dataset(s)\n",
    "\n",
    "What data will you use to answer your question? Describe the dataset(s) in terms of number of observations, what kind of features it contains, etc. You must use at least one dataset containing at least approximately 1000 observations (if your data are smaller but you feel they are sufficient, email Prof. Voytek). You are welcome (and in fact recommended) to find multiple datasets! If you do so, describe each one, and briefly explain how you will combine them together. "
   ]
  },
  {
   "cell_type": "markdown",
   "metadata": {},
   "source": [
    "\n",
    "- Dataset Name: IMBD data from 2006-2016\n",
    "- Link to the dataset: https://www.kaggle.com/PromptCloudHQ/imdb-data \n",
    "- Number of observations: 1,000\n",
    "\n",
    "The top 10 movies from each year for 10 years.  We won’t use all this data because we want to focus on the more recent years. \n",
    "\n",
    "- Dataset Name: Tweets about specific movies from Twitter’s standard search API\n",
    "- Link to the dataset: https://developer.twitter.com/en/docs/tweets/search/api-reference/get-search-tweets\n",
    "- Number of observations: 200 tweets per movie\n",
    "\n",
    "Collection of tweets for each movie that ranges from negative, neutral, and positive sentiments about the movie.\n",
    "\n",
    "- Dataset Name: Page Insights from Facebook’s Graph API\n",
    "- Link to the dataset: https://developers.facebook.com/docs/graph-api/reference/v2.12/insights\n",
    "- Number of observations: Number of likes from relevant Facebook pages to the movie for each movie in dataset\n",
    "\n",
    "Likes from the movie’s promotional page as well as metrics from the top 3 actors in the movie"
   ]
  },
  {
   "cell_type": "markdown",
   "metadata": {},
   "source": [
    "### Background and Prior Work\n",
    "\n",
    "Why is this question of interest, what background information led you to your hypothesis, and why is this important?\n",
    "\n",
    "Find some relevant prior work, and reference those sources. Even if you think you have a totally novel question, find the most similar prior work that you can and discuss how it relates to your project. \n",
    "\n",
    "References can be research publications, but they need not be. Blogs, github repositories, company websites, etc., are all viable references if they are relevant to your project.\n",
    "\n",
    "(2-3 paragraphs, including at least 2 references)"
   ]
  },
  {
   "cell_type": "markdown",
   "metadata": {},
   "source": [
    "Twitter’s variety of information can be used to analyze a person’s personality based on the tweets they have [1], so the idea that tweets can also be analyzed for other purposes is not  unreasonable. Tweets are generally candid representations of what an individual thinks about the world. Tweets about music, pop culture and movies are common. This leads us to the question: Can Tweets predict how well a movie will do? \n",
    "\n",
    "There are some studies that have already approached this question. In a 2010 study was able to predict how well movies would do with a 97.3% accuracy which is higher than the Hollywood Stock Exchange, the gold standard for opening box-office predictions. This prediction was for the first weekend performance that factored in the rate of tweets around the release date and the number of theaters its released in. In another study [3], done by Carnegie Mellon students, determined how to make the prediction more accurate, and which data points to include, and what to clean up. They investigated the noisy-ness of tweets and described how to work around it. \n",
    "\n",
    "This question is important because it leads to other types of releases whose successes could be determined by social media. Game, album, tv shows, and other types of entertainment can probably all gain from studying the tweets of the general population. \n",
    "\n",
    "\n",
    "References (include links):\n",
    "- 1) https://personality-insights-demo.ng.bluemix.net/ \n",
    "- 2) S. Asur and B. A. Huberman. Predicting the future with social media. In Proceedings of the 2010 IEEE/WIC/ACM International Conference on Web Intelligence and Intelligent Agent Technology - Volume 01, WI-IAT ’10, pages 492–499, Washington, DC, USA, 2010. IEEE Computer Society. https://arxiv.org/pdf/1003.5699.pdf \n"
   ]
  },
  {
   "cell_type": "markdown",
   "metadata": {},
   "source": [
    "### Proposed Methods\n",
    "\n",
    "What methods will you use to analyze your data?\n",
    "\n",
    "- How 'clean' is the data? To the extent that it requires cleaning, how will you do so?\n",
    "- How will you analyze the data? Be as specific as you can. Briefly mention any pre-processing steps that are required for your methods (for example, checking data distributions and performing any transformations that may be required). Include a brief outline of how you will apply your chosen method(s). \n",
    "- What do you plan to report? Briefly mention any key visualizations you plan to create, and/or the kind of results you will be able to report that address your question (this could be, for example, the outcome of some statistical test(s), prediction error on a model, a model fit parameter, etc.).\n",
    "- Include a list of packages you expect to use for you project. If you plan to use packages we have not used in class, add a very brief description about them (a few words is sufficient). "
   ]
  },
  {
   "cell_type": "markdown",
   "metadata": {},
   "source": [
    "The data that requires the most attention for cleaning are the tweets that we will use for sentiment analysis. This step will require removing unique identifiers from the dataset as required by the Safe Harbour Methods as well as other variables that will not be used as features. The data will need to be further processed to account for noise such as html-encoding, Twitter conventions(url links, mentions, hashtags), standardizing colloquial terms, and punctuation.\n",
    "\n",
    "To determine the effectiveness of social media metrics as indicators for a movie’s success, we will combine different approaches across different datasets. One approach to our analysis will involve sentiment analysis from tweets about movies in our dataset. A model that has been trained on a labelled dataset will classify each tweet as either positive, neutral, and negative. The ratio of each type of tweet corresponding to these categories will be used as a feature for each movie.\n",
    "We will also be looking at the number of likes for the pages associated with the movie as a feature of its success. These pages include the Facebook promotional page for the movie itself as well as pages  for the key actors in the movie. We will analyze the correlation for each of the variables against the movie’s revenue to select features which will then be chosen for a multiple regression analysis to model the relationship between our chosen social media metrics and a movie’s success.\n",
    "\n",
    "After cleaning and analyzing our dataset, we will have shown the correlations between the success of a movie and its various social media metrics. Our analysis will highlight various features on social media that can be effective in modelling the function of a movie’s revenue based solely on freely available information available on social media platforms. \n",
    "\n",
    "Packages we plan to use:\n",
    "- pandas\n",
    "- NumPy\n",
    "- matplotlib\n",
    "- Scikit-learn\n"
   ]
  },
  {
   "cell_type": "markdown",
   "metadata": {},
   "source": [
    "### Ethics and Privacy\n",
    "\n",
    "Briefly acknowledge and address any potential issues of ethics and privacy for the proposed project. In particular:\n",
    "- Do you have permission to use this data, for this purpose?\n",
    "- Are there privacy concerns regarding your datasets that you need to deal with, and/or terms of use that you need to comply with?\n",
    "- Are there potential biases in your dataset(s), in terms of who it composes, and how it was collected, that may be problematic in terms of it allowing for equitable analysis? (For example, does your data exclude particular populations, or is it likely to reflect particular human biases in a way that could be a problem?) \n",
    "- Are there any other issues related to your topic area, data, and/or analyses that are potentially problematic in terms of data privacy and equitable impact?\n",
    "- How will you handle any issues you identify?\n",
    "\n",
    "(1-2 paragraphs)\n",
    "\n",
    "The data we are using is all public through Twitter and IMBD. Because this data is openly public, we have full-permission to use it. Also, because we are comparing social media outlets to movie success, movies made before the start of social media will not be included; therefore, we will only be including movies from the last ten years in our analysis. There are no potential biases or other issues in our datasets that will impact our analysis."
   ]
  },
  {
   "cell_type": "markdown",
   "metadata": {},
   "source": [
    "### Discussion\n",
    "\n",
    "Discuss your project, looking forward to what your results might mean, how they fit it in with what is already known, and what problems you may encounter. \n",
    "\n",
    "In particular:\n",
    "- If your analyses and hypotheses are correct, what will be the contribution of this project to the topic domain? \n",
    "- Alternatively, what will you do if you methods don't work and/or your hypotheses are wrong? \n",
    "- What are the potential pitfalls and potential confounds of your data and/or methods that may cause problems, and/or influence your interpretations?\n",
    "\n",
    "(2-3 paragraphs)"
   ]
  },
  {
   "cell_type": "markdown",
   "metadata": {},
   "source": [
    "If our hypothesis is correct there will be a relationship between certain social media usage and the popularity/success/reception of movies. Using this relationship we could possibly estimate how well a movie will perform based on the collected statistics prior to the release. Using this information could also possibly help those in the film industry promote their movies by tailoring their marketing towards certain platforms of social media.\n",
    "    \n",
    "If we are unable to detect a relationship between social media and a movie’s success we would reconsider which metrics to analyze. This could involve either an analysis on a completely different data set or a modification of the current data set through a filtering process. \n",
    "\n",
    "The use of social media as part of our data set introduces the possibility for various potential pitfalls and confounds. The keywords we use to classify the tweets may not correctly express the attitudes expressed in the tweets. The tweets and the success of the movie also likely feedback on each other so we should make note not to classify the relationship as strictly uni-directional. Additionally, the temporal frame in which we choose to analyze a movies success can also be misleading as the popularity of a movie can sway over time.\n"
   ]
  }
 ],
 "metadata": {
  "kernelspec": {
   "display_name": "Python 3",
   "language": "python",
   "name": "python3"
  },
  "language_info": {
   "codemirror_mode": {
    "name": "ipython",
    "version": 3
   },
   "file_extension": ".py",
   "mimetype": "text/x-python",
   "name": "python",
   "nbconvert_exporter": "python",
   "pygments_lexer": "ipython3",
   "version": "3.6.3"
  }
 },
 "nbformat": 4,
 "nbformat_minor": 2
}
